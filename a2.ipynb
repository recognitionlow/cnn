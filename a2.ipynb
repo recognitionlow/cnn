{
  "cells": [
    {
      "cell_type": "markdown",
      "metadata": {
        "id": "5d992fe1"
      },
      "source": [
        "# CSC413 Assignment 2: American Sign Language\n",
        "\n",
        "**Deadline**: March 9, 2023 by 6pm\n",
        "\n",
        "**Submission**: Compile and submit a PDF report containing your code, outputs,\n",
        "and your written solutions. Do not use screenshots and images to present\n",
        "textual code/output (other than legible, hand-written answer).\n",
        "You may export the completed notebook on Google Colab, but if you do so\n",
        "**it is your responsibly to make sure that your code and answers do not get cut off**.\n",
        "\n",
        "**Late Submission**: Please see the syllabus for the late submission criteria.\n",
        "\n",
        "**Working with a partner**: You may work with a partner for this assignment.\n",
        "If you decide to work with a partner, please create your group on Markus by\n",
        "the deadline, even if you intend to use grace tokens. Markus does not allow\n",
        "you to create groups past the deadline, even if you have grace tokens remaining.\n",
        "\n",
        "[American Sign Language (ASL)](https://en.wikipedia.org/wiki/American_Sign_Language)\n",
        "is a complete, complex language that employs signs made by\n",
        "moving the hands combined with facial expressions and postures of the body.\n",
        "It is the primary language of many North Americans who are deaf and is one of several\n",
        "communication options used by people who are deaf or hard-of-hearing.\n",
        "\n",
        "The hand gestures representing English alphabets are shown below.\n",
        "\n",
        "In this assignment, we will\n",
        "classify a subset of these hand gesture images using convolutional neural networks.\n",
        "Specifically, given an image of a hand showing one of the letters A-I, we want to detect\n",
        "which letter is being represented.\n",
        "\n",
        "We will explore several convolutional architectures.\n",
        "While we will give you a tiny\n",
        "big of starter code to help make data processing a bit easier,\n",
        "you'll have a chance to build your neural network all by yourself!\n",
        "\n",
        "You may modify the starter code as you see fit, including changing the signatures of\n",
        "functions and adding/removing helper functions. However, please make sure that your\n",
        "TA can understand what you are doing and why."
      ],
      "id": "5d992fe1"
    },
    {
      "cell_type": "code",
      "execution_count": null,
      "metadata": {
        "id": "9ee4f112"
      },
      "outputs": [],
      "source": [
        "import matplotlib\n",
        "import numpy as np\n",
        "import matplotlib.pyplot as plt\n",
        "\n",
        "import torch\n",
        "import torch.nn as nn\n",
        "import torch.optim as optim\n",
        "import torchvision.models, torchvision.datasets\n",
        "\n",
        "import os\n",
        "\n",
        "%matplotlib inline"
      ],
      "id": "9ee4f112"
    },
    {
      "cell_type": "markdown",
      "metadata": {
        "id": "8142e9ae"
      },
      "source": [
        "## Question 1. Data\n",
        "\n",
        "If you are using your own machine, download the data from the course website on Quercus.\n",
        "\n",
        "If you are using Google Colab, download the data set to your Google Drive by going to\n",
        "the link [https://drive.google.com/drive/folders/1aPL24P610NHLvt9exk6-B7SzGk3R8Q48?usp=sharing](https://drive.google.com/drive/folders/1aPL24P610NHLvt9exk6-B7SzGk3R8Q48?usp=sharing)\n",
        "and selecting \"Add to My Drive\".\n",
        "This is faster than downloading the data from the course website.\n",
        "\n",
        "Then, mount Google Drive from your Google Colab notebook:"
      ],
      "id": "8142e9ae"
    },
    {
      "cell_type": "code",
      "execution_count": null,
      "metadata": {
        "colab": {
          "base_uri": "https://localhost:8080/"
        },
        "id": "d7cad865",
        "outputId": "7315855e-2d37-4c69-f2d0-97bd2267dafb"
      },
      "outputs": [
        {
          "output_type": "stream",
          "name": "stdout",
          "text": [
            "Drive already mounted at /content/drive; to attempt to forcibly remount, call drive.mount(\"/content/drive\", force_remount=True).\n"
          ]
        }
      ],
      "source": [
        "from google.colab import drive\n",
        "drive.mount('/content/drive')"
      ],
      "id": "d7cad865"
    },
    {
      "cell_type": "markdown",
      "metadata": {
        "id": "c162b791"
      },
      "source": [
        "The file structure we use is intentional,\n",
        "so that we can use `torchvision.datasets.ImageFolder`\n",
        "to help load our data and create labels."
      ],
      "id": "c162b791"
    },
    {
      "cell_type": "code",
      "execution_count": null,
      "metadata": {
        "id": "3e09752e"
      },
      "outputs": [],
      "source": [
        "train_path = \"/content/drive/MyDrive/Colab Notebooks/CSC413/A2/asl_data/train\" # edit me\n",
        "valid_path = \"/content/drive/MyDrive/Colab Notebooks/CSC413/A2/asl_data/valid\" # edit me\n",
        "test_path = \"/content/drive/MyDrive/Colab Notebooks/CSC413/A2/asl_data/test\"   # edit me\n",
        "\n",
        "train_data = torchvision.datasets.ImageFolder(train_path, transform=torchvision.transforms.ToTensor())\n",
        "valid_data = torchvision.datasets.ImageFolder(valid_path, transform=torchvision.transforms.ToTensor())\n",
        "test_data = torchvision.datasets.ImageFolder(test_path, transform=torchvision.transforms.ToTensor())\n",
        "\n",
        "device = torch.device(\"cuda:0\" if torch.cuda.is_available() else \"cpu\")\n",
        "if device.type == 'cuda':\n",
        "    torch.cuda.set_device(device)"
      ],
      "id": "3e09752e"
    },
    {
      "cell_type": "markdown",
      "metadata": {
        "id": "bdad0b1c"
      },
      "source": [
        "### Part (a) -- 2 pts\n",
        "\n",
        "Read up on what `torchvision.datasets.ImageFolder` does for us here\n",
        "[https://pytorch.org/vision/stable/datasets.html#torchvision.datasets.ImageFolder](https://pytorch.org/vision/stable/datasets.html#torchvision.datasets.ImageFolder)\n",
        "\n",
        "We can iterate through the one training data point at a time like this:"
      ],
      "id": "bdad0b1c"
    },
    {
      "cell_type": "code",
      "execution_count": null,
      "metadata": {
        "colab": {
          "base_uri": "https://localhost:8080/"
        },
        "id": "c636230f",
        "outputId": "614bdac3-64cf-45e4-850e-6abfb47b2e54"
      },
      "outputs": [
        {
          "output_type": "stream",
          "name": "stdout",
          "text": [
            "torch.Size([3, 224, 224])\n",
            "0\n"
          ]
        }
      ],
      "source": [
        "for x, y in train_data:\n",
        "    print(x.shape)\n",
        "    print(y)\n",
        "    break # uncomment if you'd like"
      ],
      "id": "c636230f"
    },
    {
      "cell_type": "markdown",
      "metadata": {
        "id": "d3fa8a0d"
      },
      "source": [
        "What do the variables `x` and `y` contain? What is the shape of our images?\n",
        "What are our labels? How did PyTorch generate these labels from the folder structure?\n",
        "\n",
        "Before answering this question, you will need to look at the folder structure\n",
        "and look at some images in the data set."
      ],
      "id": "d3fa8a0d"
    },
    {
      "cell_type": "code",
      "execution_count": null,
      "metadata": {
        "id": "141ccbaf"
      },
      "outputs": [],
      "source": [
        "# Your explanation goes here\n",
        "# x: Represents each image in the form of tensor.\n",
        "# y: Represents the category of the current image."
      ],
      "id": "141ccbaf"
    },
    {
      "cell_type": "markdown",
      "metadata": {
        "id": "389b9f32"
      },
      "source": [
        "### Part (b) -- 2 pts\n",
        "\n",
        "We saw in the earlier tutorials that PyTorch has a utility to help us\n",
        "create minibatches with our data. We can use the same DataLoader helper\n",
        "here:"
      ],
      "id": "389b9f32"
    },
    {
      "cell_type": "code",
      "execution_count": null,
      "metadata": {
        "colab": {
          "base_uri": "https://localhost:8080/"
        },
        "id": "9ba95c07",
        "outputId": "1903615a-5395-478f-82bb-5503ac2848ad"
      },
      "outputs": [
        {
          "output_type": "stream",
          "name": "stdout",
          "text": [
            "torch.Size([10, 3, 224, 224])\n",
            "tensor([1, 7, 0, 8, 2, 5, 0, 3, 0, 6])\n"
          ]
        }
      ],
      "source": [
        "train_loader = torch.utils.data.DataLoader(train_data, batch_size=10, shuffle=True)\n",
        "\n",
        "for x, y in train_loader:\n",
        "    print(x.shape)\n",
        "    print(y)\n",
        "    break # uncomment if you'd like"
      ],
      "id": "9ba95c07"
    },
    {
      "cell_type": "markdown",
      "metadata": {
        "id": "dd21fbd3"
      },
      "source": [
        "What do the variables `x` and `y` contain? What are their shapes?\n",
        "What data do they contain?"
      ],
      "id": "dd21fbd3"
    },
    {
      "cell_type": "code",
      "execution_count": null,
      "metadata": {
        "id": "7eeb9d63"
      },
      "outputs": [],
      "source": [
        "# Your explanation goes here\n",
        "# x: Represents a batch of input images\n",
        "# y: Represents each image's corresponding category."
      ],
      "id": "7eeb9d63"
    },
    {
      "cell_type": "markdown",
      "metadata": {
        "id": "d7178c16"
      },
      "source": [
        "### Part (c) -- 1 pts\n",
        "\n",
        "How many images are there in the training, validation, and test sets?"
      ],
      "id": "d7178c16"
    },
    {
      "cell_type": "code",
      "execution_count": null,
      "metadata": {
        "colab": {
          "base_uri": "https://localhost:8080/"
        },
        "id": "3ea889ee",
        "outputId": "80ee713a-46ca-4ded-9ae5-1a1356eb6ee3"
      },
      "outputs": [
        {
          "output_type": "stream",
          "name": "stdout",
          "text": [
            "Num of Img in Training Set: 733\n",
            "Num of Img in Valid Set: 207\n",
            "Num of Img in Test Set: 223\n"
          ]
        }
      ],
      "source": [
        "# Your answer (and possibly code) goes here\n",
        "print(\"Num of Img in Training Set:\", len(train_data))\n",
        "print(\"Num of Img in Valid Set:\", len(valid_data))\n",
        "print(\"Num of Img in Test Set:\", len(test_data))"
      ],
      "id": "3ea889ee"
    },
    {
      "cell_type": "markdown",
      "metadata": {
        "id": "2820c1f6"
      },
      "source": [
        "### Part (d) -- 3 pts\n",
        "\n",
        "This dataset was generated by students in past machine learning courses, where\n",
        "each student took several photos of themselves demonstrating the ASL hand gestures.\n",
        "The file names of the images follow the following convention:\n",
        "`<student-identifier>_<letter>_<img-count>.jpg`\n",
        "\n",
        "When we split the data into training, validation, and test sets, we took care\n",
        "to put photos taken by the same person in the same data set. In other words, if one of the\n",
        "student's photo is in the training set, then other photos taken by the same student\n",
        "will also be placed in the training set.\n",
        "\n",
        "This way of separating the dataset into training, validation and test is more nuanced\n",
        "than simply randomly splitting the photos into training/validation/test.\n",
        "\n",
        "Explain why it is important to make sure that we split the photos into the\n",
        "three datasets **by student**, so that photos from the same student are always in the\n",
        "same set."
      ],
      "id": "2820c1f6"
    },
    {
      "cell_type": "code",
      "execution_count": null,
      "metadata": {
        "id": "765da0fc"
      },
      "outputs": [],
      "source": [
        "# Your answer goes here\n",
        "# Although the photos of the same students might vary, the photos that come from\n",
        "# the same student will have similar patterns for the neural network to learn.\n",
        "\n",
        "# Therefore, if the photos of the same students appear in different data sets,\n",
        "# the neural network actually has already seen the patterns from these images\n",
        "# such that the validation or test accuracy will be inflated."
      ],
      "id": "765da0fc"
    },
    {
      "cell_type": "markdown",
      "metadata": {
        "id": "87876459"
      },
      "source": [
        "## Question 2. Model Building\n",
        "\n",
        "#### Part (a) Convolutional Network - 5 pt\n",
        "\n",
        "Build a convolutional neural network model that takes the (224x224 RGB) image as input, and predicts\n",
        "the letter. Your model should be a subclass of `nn.Module`.\n",
        "You may want to review the Colab notebook demo from week 6 lectures. There is a small convolutional\n",
        "neural network included in the notebook.\n",
        "\n",
        "Here are some rules of thumb when determining your convolutional neural network architecture:\n",
        "\n",
        "- Nowadays, people prefer small kernel sizes (e.g. 3x3 or 5x5), with many convolutional layers\n",
        "  (we suggest 3-4 to start).\n",
        "- Use a downsampling operation after (or with) each convolution layer\n",
        "- In a typical convolutional neural network architectures, every time we downsample, we double the\n",
        "  number of features (channels). This is so that we don't lose too much information in each layer.\n",
        "  You may wish to make the number of output channels in your first convolutional layer a variable,\n",
        "  and double this value in every subsequent convolutions.\n",
        "- Typical CNNS will have a few (1-3) fully-connected layers as the final layers.\n",
        "\n",
        "Explain your choice of neural network architecture: how many layers did you choose?\n",
        "What types of layers did you use? Were they fully-connected or convolutional? What about other\n",
        "decisions like pooling layers, activation functions, number of channels / hidden units.\n",
        "\n",
        "Do not use dropout or batch normalization in this architecture."
      ],
      "id": "87876459"
    },
    {
      "cell_type": "code",
      "execution_count": null,
      "metadata": {
        "id": "9f5e3313"
      },
      "outputs": [],
      "source": [
        "# Your code goes here\n",
        "\n",
        "# Model: (Converluaional -> MaxPool) x 3 -> Fully Connected x 1\n",
        "\n",
        "# Layer Type: 3 x Conv + 1 x FC\n",
        "# Since an input size of 224x224 will be too large. With CNN's parameter\n",
        "# sharing function, we can reduce the number of parameters needed during the\n",
        "# training process such that the model will be trained faster.\n",
        "# Finally, a fully connected layer will be used for connecting all the features\n",
        "# and ready to be classfied.\n",
        "\n",
        "# Num of Hidden Units of FC: 9\n",
        "# Since we will classify the output into A-I, which is 9 letters.\n",
        "\n",
        "# Num of Output Channels of 1st Conv Layer: 16\n",
        "# Since the image of the hand does not only have vertial and horizontal edges,\n",
        "# we want to detect more features in order to make a more accurate prediction.\n",
        "\n",
        "# Pooling Layer Type: MinPool 2x2 w/ Stride=2\n",
        "\n",
        "# Padding: 1\n",
        "# To not lose any information when the kernel slides over the image and the\n",
        "# output size is an even number such that can fit with a maxpool size of 2 perfectly.\n",
        "\n",
        "# Activation Function: ReLU (between layers)\n",
        "# Use ReLU since it is a non-linear activation function.\n",
        "\n",
        "# Activation Function: SoftMax (at the last layer)\n",
        "# Use softmax for multiclass classification.\n",
        "\n",
        "class CNN1(nn.Module):\n",
        "    def __init__(self) -> None:\n",
        "        super(CNN1, self).__init__()\n",
        "\n",
        "        self.out_channels = 16\n",
        "\n",
        "        self.pool = nn.MaxPool2d(kernel_size=2, stride=2)\n",
        "\n",
        "        self.conv1 = nn.Conv2d(in_channels=3, out_channels=self.out_channels, kernel_size=3, padding=1)\n",
        "        self.out_channels *= 2\n",
        "\n",
        "        self.conv2 = nn.Conv2d(in_channels=self.out_channels//2, out_channels=self.out_channels, kernel_size=3, padding=1)\n",
        "        self.out_channels *= 2\n",
        "\n",
        "        self.conv3 = nn.Conv2d(in_channels=self.out_channels//2, out_channels=self.out_channels, kernel_size=3, padding=1)\n",
        "\n",
        "        self.fc = nn.Linear(self.out_channels * 28 * 28, 9)\n",
        "\n",
        "    def forward(self, x):\n",
        "\n",
        "        x = self.pool(torch.relu(self.conv1(x)))\n",
        "        x = self.pool(torch.relu(self.conv2(x)))\n",
        "        x = self.pool(torch.relu(self.conv3(x)))\n",
        "\n",
        "        # Resize the input from 4D to 3D wrt to the batch size in order to fit the input size of FC layer\n",
        "        x = x.view(-1, self.out_channels * 28 * 28)\n",
        "\n",
        "        return torch.softmax(self.fc(x), dim=1)"
      ],
      "id": "9f5e3313"
    },
    {
      "cell_type": "markdown",
      "metadata": {
        "id": "3c0c71bf"
      },
      "source": [
        "#### Part (b) Convolutional Network with Batch Normalization - 3 pt\n",
        "\n",
        "Build a variation of your convolutional neural network from part (a), and\n",
        "add either at least one batch normalization *or* at least one dropout layer,\n",
        "but **not** both.\n",
        "You will need to read the PyTorch documentation to figure out how these layers\n",
        "function."
      ],
      "id": "3c0c71bf"
    },
    {
      "cell_type": "code",
      "execution_count": null,
      "metadata": {
        "id": "33dcebe8"
      },
      "outputs": [],
      "source": [
        "# Your code goes here\n",
        "\n",
        "class CNN2(nn.Module):\n",
        "    def __init__(self) -> None:\n",
        "        super(CNN2, self).__init__()\n",
        "\n",
        "        self.out_channels = 16\n",
        "\n",
        "        self.pool = nn.MaxPool2d(kernel_size=2, stride=2)\n",
        "\n",
        "        # Remember to pool first, then normalization in forward()\n",
        "        self.conv1 = nn.Conv2d(in_channels=3, out_channels=self.out_channels, kernel_size=3, padding=1)\n",
        "        self.batch_norm1 = nn.BatchNorm2d(self.out_channels)\n",
        "\n",
        "        self.out_channels *= 2\n",
        "\n",
        "        self.conv2 = nn.Conv2d(in_channels=self.out_channels//2, out_channels=self.out_channels, kernel_size=3, padding=1)\n",
        "        self.batch_norm2 = nn.BatchNorm2d(self.out_channels)\n",
        "\n",
        "        self.out_channels *= 2\n",
        "\n",
        "        self.conv3 = nn.Conv2d(in_channels=self.out_channels//2, out_channels=self.out_channels, kernel_size=3, padding=1)\n",
        "        self.batch_norm3 = nn.BatchNorm2d(self.out_channels)\n",
        "\n",
        "        self.fc = nn.Linear(self.out_channels * 28 * 28, 9)\n",
        "\n",
        "    def forward(self, x):\n",
        "\n",
        "        x = self.batch_norm1(self.pool(torch.relu(self.conv1(x))))\n",
        "        x = self.batch_norm2(self.pool(torch.relu(self.conv2(x))))\n",
        "        x = self.batch_norm3(self.pool(torch.relu(self.conv3(x))))\n",
        "\n",
        "        # Resize the input from 4D to 3D wrt to the batch size in order to fit the input size of FC layer\n",
        "        x = x.view(-1, self.out_channels * 28 * 28)\n",
        "\n",
        "        return torch.softmax(self.fc(x), dim=1)"
      ],
      "id": "33dcebe8"
    },
    {
      "cell_type": "markdown",
      "metadata": {
        "id": "22553003"
      },
      "source": [
        "#### Part (c) Architecture Decision - 1 pt\n",
        "\n",
        "It does not make sense to add the batch normalization or dropout layer as\n",
        "your *final* layer. Explain why this is the case."
      ],
      "id": "22553003"
    },
    {
      "cell_type": "code",
      "execution_count": null,
      "metadata": {
        "id": "f2cbe4bb"
      },
      "outputs": [],
      "source": [
        "# Your answer goes here\n",
        "\n",
        "# The final layer is the output which is realdy for predition. If we normalize\n",
        "# after the final layer, the values on the layer will be changed and might\n",
        "# affect the result of prediton."
      ],
      "id": "f2cbe4bb"
    },
    {
      "cell_type": "markdown",
      "metadata": {
        "id": "f9a1f2f0"
      },
      "source": [
        "## Question 3. Training Code and Sanity Checking\n",
        "\n",
        "#### Part (a) Accuracy - 3 pt\n",
        "\n",
        "Compute the `get_accuracy` function, which computes the model accuracy across a dataset:"
      ],
      "id": "f9a1f2f0"
    },
    {
      "cell_type": "code",
      "execution_count": null,
      "metadata": {
        "id": "a75d3e58"
      },
      "outputs": [],
      "source": [
        "def get_accuracy(model, data, batch_size=32):\n",
        "    # note: why should we use a larger batch size here?\n",
        "    loader = torch.utils.data.DataLoader(data, batch_size=batch_size)\n",
        "\n",
        "    model.eval() # annotate model for evaluation (why do we need to do this?)\n",
        "\n",
        "    correct = 0\n",
        "    total = 0\n",
        "\n",
        "    # Loader returns images and corresponding labels in a batch\n",
        "    # imgs = a batch of imgs at current iteration\n",
        "    for imgs, labels in loader:\n",
        "        output = model(imgs)\n",
        "\n",
        "        # output.max(1, keepdim=True) returns the index of highest prob in softmax\n",
        "        _, pred = output.max(1, keepdim=True)\n",
        "        correct += pred.eq(labels.view_as(pred)).sum().item()\n",
        "        total += imgs.shape[0]\n",
        "\n",
        "    return correct/total # TODO: return the model accuracy"
      ],
      "id": "a75d3e58"
    },
    {
      "cell_type": "markdown",
      "metadata": {
        "id": "5b1086b3"
      },
      "source": [
        "#### Part (b) Training Code - 8 pt\n",
        "\n",
        "Write code to train your neural network given some training data. Your training code\n",
        "should make it easy to tweak hyperparameters. Make sure that you are checkpointing\n",
        "your models from time to time (the frequency is up to you).\n",
        "\n",
        "Here's what we will be looking for:\n",
        "\n",
        "- using the data loader to load the training data\n",
        "- using the correct choice of loss function and a reasonable optimizer\n",
        "- shuffling the training data at the start of each epoch\n",
        "- in each iteration, take `batch_size` samples from the data set\n",
        "- use the correct labels from the data set\n",
        "- computing the forward and backward passes\n",
        "- after every epoch, **checkpoint your model** (A1 had instructions and examples for how to do this)\n",
        "- after every epoch, report the accuracies for the training set and validation set\n",
        "- track the training curve information and **plot the training curve**\n",
        "- correctly handling edge cases (e.g. why might the last batch be smaller than the rest?)\n",
        "\n",
        "Don't forget the checkpointing step. You will need to load your model weights later."
      ],
      "id": "5b1086b3"
    },
    {
      "cell_type": "code",
      "execution_count": null,
      "metadata": {
        "id": "8c92194f"
      },
      "outputs": [],
      "source": [
        "# Your code goes here\n",
        "\n",
        "def train(model, train_data, valid_data, batch_size=32, weight_decay=0.0,\n",
        "          optimizer=\"sgd\", momentum=0.9, learning_rate=0.001, num_epochs=7,\n",
        "          shuffle_data=True, checkpoint_path=None, print_acc=True):\n",
        "\n",
        "    # Shuffled data, last batch dropped if smaller than rest\n",
        "    train_loader = torch.utils.data.DataLoader(train_data, batch_size=batch_size, shuffle=shuffle_data, drop_last=True)\n",
        "\n",
        "    # Loss Function\n",
        "    # Since it is a multi-class classcificaion problem, we used softmax.\n",
        "    # With softmax, we need to use corss-entropy. If use square loss, the gradient signal will be too small.\n",
        "    criterion = nn.CrossEntropyLoss()\n",
        "\n",
        "    # Optimizer\n",
        "    # Used SGD instead of Adam since SGD generlize better than Adam, although Adam is faster.\n",
        "    assert optimizer in (\"sgd\", \"adam\")\n",
        "    if optimizer == \"sgd\":\n",
        "        optimizer = optim.SGD(model.parameters(),\n",
        "                              lr=learning_rate,\n",
        "                              momentum=momentum,\n",
        "                              weight_decay=weight_decay)\n",
        "    else:\n",
        "        optimizer = optim.Adam(model.parameters(),\n",
        "                               lr=learning_rate,\n",
        "                               weight_decay=weight_decay)\n",
        "    iters, losses, train_acc, val_acc, n = [], [], [], [], 0\n",
        "\n",
        "    print(\"\\n ----- Start Training ----- \\n\")\n",
        "\n",
        "    for epoch in range(num_epochs):\n",
        "\n",
        "        for imgs, labels in iter(train_loader):\n",
        "\n",
        "            # Start training mode\n",
        "            model.train()\n",
        "\n",
        "            output = model(imgs)\n",
        "            loss = criterion(output, labels)\n",
        "            loss.backward()\n",
        "            optimizer.step()\n",
        "\n",
        "            optimizer.zero_grad()\n",
        "            n += 1\n",
        "\n",
        "        iters.append(n)\n",
        "        losses.append(float(loss)/batch_size)\n",
        "        train_acc.append(get_accuracy(model, train_data, batch_size))\n",
        "        val_acc.append(get_accuracy(model, valid_data, batch_size))\n",
        "\n",
        "        if checkpoint_path is not None:\n",
        "            torch.save(model.state_dict(), checkpoint_path)\n",
        "\n",
        "        if print_acc:\n",
        "            print(\"Iter %d. [Val Acc %.0f%%] [Train Acc %.0f%%, Loss %f]\" % (\n",
        "                    n, val_acc[-1] * 100, train_acc[-1] * 100, losses[-1]))\n",
        "\n",
        "    # Plot Graph\n",
        "    plt.title(\"Learning Curve\")\n",
        "    plt.plot(iters, losses, label=\"Train\")\n",
        "    plt.xlabel(\"Iterations\")\n",
        "    plt.ylabel(\"Loss\")\n",
        "    plt.show()\n",
        "\n",
        "    plt.title(\"Learning Curve\")\n",
        "    plt.plot(iters, train_acc, label=\"Train\")\n",
        "    plt.plot(iters, val_acc, label=\"Validation\")\n",
        "    plt.xlabel(\"Iterations\")\n",
        "    plt.ylabel(\"Training Accuracy\")\n",
        "    plt.legend(loc='best')\n",
        "    plt.show()\n",
        "\n",
        "    print(\"Final Training Accuracy: {}\".format(train_acc[-1]))\n",
        "    print(\"Final Validation Accuracy: {}\".format(val_acc[-1]))"
      ],
      "id": "8c92194f"
    },
    {
      "cell_type": "markdown",
      "metadata": {
        "id": "b412ede1"
      },
      "source": [
        "#### Part (c) Overfit to a Small Dataset - 2 pt\n",
        "\n",
        "One way to sanity check our neural network model and training code is to check whether\n",
        "each of your two models is capable of \"memorizing\" or \"overfitting\" to a small dataset. Construct\n",
        "a small dataset (e.g. 1-2 image per class). Then show that your model and training code\n",
        "is capable of overfitting on that small dataset. You should be able to obtain a 100%\n",
        "training accuracy on that small dataset relatively quickly (i.e. within a few hundred iterations,\n",
        "possibly more depending on your learning rate).\n",
        "\n",
        "This question is really here to make sure that your model/training code is correct.\n",
        "The question itself is not worth much, but your results here will diagnose issues\n",
        "from other parts of your code.\n",
        "If your models cannot overfit the small dataset quickly, then there is\n",
        "a bug in either your model code and/or your training code. Fix the issues\n",
        "before you proceed to the next step."
      ],
      "id": "b412ede1"
    },
    {
      "cell_type": "code",
      "execution_count": null,
      "metadata": {
        "colab": {
          "base_uri": "https://localhost:8080/"
        },
        "id": "78d9f489",
        "outputId": "5d651383-1d5b-4fe1-bbc7-caa79b693067"
      },
      "outputs": [
        {
          "output_type": "stream",
          "name": "stdout",
          "text": [
            "Indices of images in train_data (2 img/label): [0, 1, 86, 87, 167, 168, 239, 240, 321, 322, 397, 398, 479, 480, 561, 562, 644, 645]\n"
          ]
        }
      ],
      "source": [
        "# Your code goes here\n",
        "train_indices = []\n",
        "valid_indices = []\n",
        "\n",
        "temp_target = None\n",
        "\n",
        "# train_data.targets = [each image's target/label]\n",
        "for index, target in enumerate(train_data.targets):\n",
        "\n",
        "    # If the target/label changed, then we know that it started to iterate images in a new folder (i.e. with a new label).\n",
        "    # Then append the index of two images\n",
        "    if target != temp_target:\n",
        "        train_indices.append(index)\n",
        "        train_indices.append(index + 1)\n",
        "        valid_indices.append(index + 2)\n",
        "        valid_indices.append(index + 3)\n",
        "        temp_target = target\n",
        "\n",
        "print(\"Indices of images in train_data (2 img/label):\", train_indices)\n",
        "\n",
        "# Get a subset of train_data where each data point corresponding to the above indices we just found.\n",
        "overfit_train = torch.utils.data.Subset(train_data, train_indices)\n",
        "overfit_valid = torch.utils.data.Subset(train_data, valid_indices)"
      ],
      "id": "78d9f489"
    },
    {
      "cell_type": "code",
      "execution_count": null,
      "metadata": {
        "colab": {
          "base_uri": "https://localhost:8080/",
          "height": 1000
        },
        "id": "q9eJTg6tI1oX",
        "outputId": "4dc81b2b-96de-4628-c0e8-c28da7cb0906"
      },
      "outputs": [
        {
          "output_type": "stream",
          "name": "stdout",
          "text": [
            "\n",
            " ----- Start Training ----- \n",
            "\n",
            "Iter 1. [Val Acc 17%] [Train Acc 28%, Loss 0.122072]\n",
            "Iter 2. [Val Acc 11%] [Train Acc 33%, Loss 0.121983]\n",
            "Iter 3. [Val Acc 22%] [Train Acc 33%, Loss 0.121891]\n",
            "Iter 4. [Val Acc 22%] [Train Acc 33%, Loss 0.121791]\n",
            "Iter 5. [Val Acc 22%] [Train Acc 33%, Loss 0.121684]\n",
            "Iter 6. [Val Acc 22%] [Train Acc 33%, Loss 0.121567]\n",
            "Iter 7. [Val Acc 22%] [Train Acc 33%, Loss 0.121441]\n",
            "Iter 8. [Val Acc 22%] [Train Acc 39%, Loss 0.121303]\n",
            "Iter 9. [Val Acc 22%] [Train Acc 39%, Loss 0.121154]\n",
            "Iter 10. [Val Acc 22%] [Train Acc 39%, Loss 0.120992]\n",
            "Iter 11. [Val Acc 22%] [Train Acc 39%, Loss 0.120816]\n",
            "Iter 12. [Val Acc 22%] [Train Acc 44%, Loss 0.120625]\n",
            "Iter 13. [Val Acc 22%] [Train Acc 44%, Loss 0.120417]\n",
            "Iter 14. [Val Acc 22%] [Train Acc 50%, Loss 0.120190]\n",
            "Iter 15. [Val Acc 28%] [Train Acc 50%, Loss 0.119943]\n",
            "Iter 16. [Val Acc 28%] [Train Acc 50%, Loss 0.119673]\n",
            "Iter 17. [Val Acc 28%] [Train Acc 50%, Loss 0.119378]\n",
            "Iter 18. [Val Acc 28%] [Train Acc 61%, Loss 0.119056]\n",
            "Iter 19. [Val Acc 28%] [Train Acc 67%, Loss 0.118705]\n",
            "Iter 20. [Val Acc 28%] [Train Acc 67%, Loss 0.118322]\n",
            "Iter 21. [Val Acc 28%] [Train Acc 67%, Loss 0.117904]\n",
            "Iter 22. [Val Acc 33%] [Train Acc 67%, Loss 0.117450]\n",
            "Iter 23. [Val Acc 28%] [Train Acc 67%, Loss 0.116956]\n",
            "Iter 24. [Val Acc 28%] [Train Acc 67%, Loss 0.116420]\n",
            "Iter 25. [Val Acc 28%] [Train Acc 67%, Loss 0.115839]\n",
            "Iter 26. [Val Acc 33%] [Train Acc 72%, Loss 0.115210]\n",
            "Iter 27. [Val Acc 39%] [Train Acc 72%, Loss 0.114528]\n",
            "Iter 28. [Val Acc 44%] [Train Acc 72%, Loss 0.113790]\n",
            "Iter 29. [Val Acc 44%] [Train Acc 72%, Loss 0.112994]\n",
            "Iter 30. [Val Acc 44%] [Train Acc 72%, Loss 0.112135]\n",
            "Iter 31. [Val Acc 44%] [Train Acc 78%, Loss 0.111212]\n",
            "Iter 32. [Val Acc 39%] [Train Acc 78%, Loss 0.110224]\n",
            "Iter 33. [Val Acc 44%] [Train Acc 78%, Loss 0.109172]\n",
            "Iter 34. [Val Acc 44%] [Train Acc 78%, Loss 0.108057]\n",
            "Iter 35. [Val Acc 44%] [Train Acc 78%, Loss 0.106882]\n",
            "Iter 36. [Val Acc 44%] [Train Acc 78%, Loss 0.105652]\n",
            "Iter 37. [Val Acc 44%] [Train Acc 78%, Loss 0.104367]\n",
            "Iter 38. [Val Acc 44%] [Train Acc 83%, Loss 0.103033]\n",
            "Iter 39. [Val Acc 44%] [Train Acc 83%, Loss 0.101652]\n",
            "Iter 40. [Val Acc 44%] [Train Acc 83%, Loss 0.100234]\n",
            "Iter 41. [Val Acc 44%] [Train Acc 89%, Loss 0.098795]\n",
            "Iter 42. [Val Acc 44%] [Train Acc 94%, Loss 0.097347]\n",
            "Iter 43. [Val Acc 44%] [Train Acc 94%, Loss 0.095890]\n",
            "Iter 44. [Val Acc 50%] [Train Acc 94%, Loss 0.094434]\n",
            "Iter 45. [Val Acc 50%] [Train Acc 94%, Loss 0.093014]\n",
            "Iter 46. [Val Acc 50%] [Train Acc 94%, Loss 0.091658]\n",
            "Iter 47. [Val Acc 44%] [Train Acc 94%, Loss 0.090342]\n",
            "Iter 48. [Val Acc 44%] [Train Acc 100%, Loss 0.089057]\n",
            "Iter 49. [Val Acc 44%] [Train Acc 100%, Loss 0.087840]\n",
            "Iter 50. [Val Acc 44%] [Train Acc 100%, Loss 0.086722]\n",
            "Iter 51. [Val Acc 44%] [Train Acc 100%, Loss 0.085689]\n",
            "Iter 52. [Val Acc 44%] [Train Acc 100%, Loss 0.084717]\n",
            "Iter 53. [Val Acc 39%] [Train Acc 100%, Loss 0.083826]\n",
            "Iter 54. [Val Acc 39%] [Train Acc 100%, Loss 0.083031]\n",
            "Iter 55. [Val Acc 39%] [Train Acc 100%, Loss 0.082314]\n",
            "Iter 56. [Val Acc 44%] [Train Acc 100%, Loss 0.081658]\n",
            "Iter 57. [Val Acc 44%] [Train Acc 100%, Loss 0.081071]\n",
            "Iter 58. [Val Acc 44%] [Train Acc 100%, Loss 0.080550]\n",
            "Iter 59. [Val Acc 44%] [Train Acc 100%, Loss 0.080087]\n",
            "Iter 60. [Val Acc 44%] [Train Acc 100%, Loss 0.079672]\n",
            "Iter 61. [Val Acc 44%] [Train Acc 100%, Loss 0.079301]\n",
            "Iter 62. [Val Acc 44%] [Train Acc 100%, Loss 0.078975]\n",
            "Iter 63. [Val Acc 44%] [Train Acc 100%, Loss 0.078687]\n",
            "Iter 64. [Val Acc 44%] [Train Acc 100%, Loss 0.078428]\n",
            "Iter 65. [Val Acc 44%] [Train Acc 100%, Loss 0.078198]\n",
            "Iter 66. [Val Acc 44%] [Train Acc 100%, Loss 0.077996]\n",
            "Iter 67. [Val Acc 44%] [Train Acc 100%, Loss 0.077817]\n",
            "Iter 68. [Val Acc 44%] [Train Acc 100%, Loss 0.077659]\n",
            "Iter 69. [Val Acc 44%] [Train Acc 100%, Loss 0.077518]\n",
            "Iter 70. [Val Acc 44%] [Train Acc 100%, Loss 0.077392]\n"
          ]
        },
        {
          "output_type": "display_data",
          "data": {
            "text/plain": [
              "<Figure size 432x288 with 1 Axes>"
            ],
            "image/png": "[encoded data removed]"
          },
          "metadata": {
            "needs_background": "light"
          }
        },
        {
          "output_type": "display_data",
          "data": {
            "text/plain": [
              "<Figure size 432x288 with 1 Axes>"
            ],
            "image/png": "[encoded data removed]"
          },
          "metadata": {
            "needs_background": "light"
          }
        },
        {
          "output_type": "stream",
          "name": "stdout",
          "text": [
            "Final Training Accuracy: 1.0\n",
            "Final Validation Accuracy: 0.4444444444444444\n"
          ]
        }
      ],
      "source": [
        "model1 = CNN1()\n",
        "train(model1, overfit_train, overfit_valid, batch_size=18, weight_decay=0.0,\n",
        "          optimizer=\"adam\", momentum=0.9, learning_rate=0.0001, num_epochs=70,\n",
        "          shuffle_data=True, checkpoint_path=None)"
      ],
      "id": "q9eJTg6tI1oX"
    },
    {
      "cell_type": "code",
      "execution_count": null,
      "metadata": {
        "colab": {
          "base_uri": "https://localhost:8080/",
          "height": 1000
        },
        "id": "zZS8PbbWI4dj",
        "outputId": "f8291372-2777-4bb0-cd0b-1a80c63c5098"
      },
      "outputs": [
        {
          "output_type": "stream",
          "name": "stdout",
          "text": [
            "\n",
            " ----- Start Training ----- \n",
            "\n",
            "Iter 1. [Val Acc 11%] [Train Acc 11%, Loss 0.122237]\n",
            "Iter 2. [Val Acc 11%] [Train Acc 11%, Loss 0.104799]\n",
            "Iter 3. [Val Acc 11%] [Train Acc 11%, Loss 0.088628]\n",
            "Iter 4. [Val Acc 11%] [Train Acc 11%, Loss 0.081030]\n",
            "Iter 5. [Val Acc 11%] [Train Acc 11%, Loss 0.077771]\n",
            "Iter 6. [Val Acc 11%] [Train Acc 11%, Loss 0.076863]\n",
            "Iter 7. [Val Acc 11%] [Train Acc 11%, Loss 0.076523]\n",
            "Iter 8. [Val Acc 11%] [Train Acc 11%, Loss 0.076368]\n",
            "Iter 9. [Val Acc 17%] [Train Acc 22%, Loss 0.076294]\n",
            "Iter 10. [Val Acc 17%] [Train Acc 22%, Loss 0.076259]\n",
            "Iter 11. [Val Acc 17%] [Train Acc 22%, Loss 0.076241]\n",
            "Iter 12. [Val Acc 11%] [Train Acc 17%, Loss 0.076232]\n",
            "Iter 13. [Val Acc 11%] [Train Acc 17%, Loss 0.076227]\n",
            "Iter 14. [Val Acc 11%] [Train Acc 17%, Loss 0.076225]\n",
            "Iter 15. [Val Acc 11%] [Train Acc 17%, Loss 0.076223]\n",
            "Iter 16. [Val Acc 11%] [Train Acc 17%, Loss 0.076222]\n",
            "Iter 17. [Val Acc 11%] [Train Acc 17%, Loss 0.076221]\n",
            "Iter 18. [Val Acc 11%] [Train Acc 17%, Loss 0.076221]\n",
            "Iter 19. [Val Acc 11%] [Train Acc 17%, Loss 0.076220]\n",
            "Iter 20. [Val Acc 11%] [Train Acc 17%, Loss 0.076220]\n",
            "Iter 21. [Val Acc 11%] [Train Acc 17%, Loss 0.076220]\n",
            "Iter 22. [Val Acc 11%] [Train Acc 17%, Loss 0.076220]\n",
            "Iter 23. [Val Acc 11%] [Train Acc 17%, Loss 0.076220]\n",
            "Iter 24. [Val Acc 11%] [Train Acc 17%, Loss 0.076220]\n",
            "Iter 25. [Val Acc 11%] [Train Acc 17%, Loss 0.076220]\n",
            "Iter 26. [Val Acc 17%] [Train Acc 17%, Loss 0.076220]\n",
            "Iter 27. [Val Acc 11%] [Train Acc 17%, Loss 0.076220]\n",
            "Iter 28. [Val Acc 11%] [Train Acc 22%, Loss 0.076220]\n",
            "Iter 29. [Val Acc 11%] [Train Acc 22%, Loss 0.076220]\n",
            "Iter 30. [Val Acc 11%] [Train Acc 33%, Loss 0.076220]\n",
            "Iter 31. [Val Acc 17%] [Train Acc 39%, Loss 0.076220]\n",
            "Iter 32. [Val Acc 17%] [Train Acc 39%, Loss 0.076220]\n",
            "Iter 33. [Val Acc 17%] [Train Acc 39%, Loss 0.076220]\n",
            "Iter 34. [Val Acc 17%] [Train Acc 39%, Loss 0.076220]\n",
            "Iter 35. [Val Acc 17%] [Train Acc 50%, Loss 0.076220]\n",
            "Iter 36. [Val Acc 17%] [Train Acc 56%, Loss 0.076220]\n",
            "Iter 37. [Val Acc 17%] [Train Acc 61%, Loss 0.076220]\n",
            "Iter 38. [Val Acc 17%] [Train Acc 61%, Loss 0.076220]\n",
            "Iter 39. [Val Acc 17%] [Train Acc 61%, Loss 0.076220]\n",
            "Iter 40. [Val Acc 17%] [Train Acc 61%, Loss 0.076220]\n",
            "Iter 41. [Val Acc 17%] [Train Acc 61%, Loss 0.076220]\n",
            "Iter 42. [Val Acc 17%] [Train Acc 61%, Loss 0.076220]\n",
            "Iter 43. [Val Acc 17%] [Train Acc 67%, Loss 0.076220]\n",
            "Iter 44. [Val Acc 17%] [Train Acc 89%, Loss 0.076220]\n",
            "Iter 45. [Val Acc 17%] [Train Acc 94%, Loss 0.076220]\n",
            "Iter 46. [Val Acc 22%] [Train Acc 94%, Loss 0.076220]\n",
            "Iter 47. [Val Acc 28%] [Train Acc 94%, Loss 0.076220]\n",
            "Iter 48. [Val Acc 28%] [Train Acc 94%, Loss 0.076220]\n",
            "Iter 49. [Val Acc 28%] [Train Acc 94%, Loss 0.076220]\n",
            "Iter 50. [Val Acc 28%] [Train Acc 100%, Loss 0.076220]\n",
            "Iter 51. [Val Acc 33%] [Train Acc 100%, Loss 0.076220]\n",
            "Iter 52. [Val Acc 33%] [Train Acc 100%, Loss 0.076220]\n",
            "Iter 53. [Val Acc 33%] [Train Acc 100%, Loss 0.076220]\n",
            "Iter 54. [Val Acc 33%] [Train Acc 100%, Loss 0.076220]\n",
            "Iter 55. [Val Acc 33%] [Train Acc 100%, Loss 0.076220]\n",
            "Iter 56. [Val Acc 33%] [Train Acc 100%, Loss 0.076220]\n",
            "Iter 57. [Val Acc 33%] [Train Acc 100%, Loss 0.076220]\n",
            "Iter 58. [Val Acc 33%] [Train Acc 100%, Loss 0.076220]\n",
            "Iter 59. [Val Acc 33%] [Train Acc 100%, Loss 0.076220]\n",
            "Iter 60. [Val Acc 33%] [Train Acc 100%, Loss 0.076220]\n",
            "Iter 61. [Val Acc 33%] [Train Acc 100%, Loss 0.076220]\n",
            "Iter 62. [Val Acc 39%] [Train Acc 100%, Loss 0.076220]\n",
            "Iter 63. [Val Acc 39%] [Train Acc 100%, Loss 0.076220]\n",
            "Iter 64. [Val Acc 39%] [Train Acc 100%, Loss 0.076220]\n",
            "Iter 65. [Val Acc 39%] [Train Acc 100%, Loss 0.076220]\n",
            "Iter 66. [Val Acc 39%] [Train Acc 100%, Loss 0.076220]\n",
            "Iter 67. [Val Acc 39%] [Train Acc 100%, Loss 0.076220]\n",
            "Iter 68. [Val Acc 39%] [Train Acc 100%, Loss 0.076220]\n",
            "Iter 69. [Val Acc 39%] [Train Acc 100%, Loss 0.076220]\n",
            "Iter 70. [Val Acc 39%] [Train Acc 100%, Loss 0.076220]\n"
          ]
        },
        {
          "output_type": "display_data",
          "data": {
            "text/plain": [
              "<Figure size 432x288 with 1 Axes>"
            ],
            "image/png": "[encoded data removed]"
          },
          "metadata": {
            "needs_background": "light"
          }
        },
        {
          "output_type": "display_data",
          "data": {
            "text/plain": [
              "<Figure size 432x288 with 1 Axes>"
            ],
            "image/png": "[encoded data removed]"
          },
          "metadata": {
            "needs_background": "light"
          }
        },
        {
          "output_type": "stream",
          "name": "stdout",
          "text": [
            "Final Training Accuracy: 1.0\n",
            "Final Validation Accuracy: 0.3888888888888889\n"
          ]
        }
      ],
      "source": [
        "model2 = CNN2()\n",
        "train(model2, overfit_train, overfit_valid, batch_size=18, weight_decay=0.0,\n",
        "          optimizer=\"adam\", momentum=0.9, learning_rate=0.0001, num_epochs=70,\n",
        "          shuffle_data=True, checkpoint_path=None)"
      ],
      "id": "zZS8PbbWI4dj"
    },
    {
      "cell_type": "markdown",
      "metadata": {
        "id": "f1f1450b"
      },
      "source": [
        "## Question 4. Training\n",
        "\n",
        "### Part (a) -- 5 points\n",
        "\n",
        "Train your first network on your training set.\n",
        "Plot the training curve, and include your plot in your writeup.\n",
        "\n",
        "Make sure that you are checkpointing frequently!"
      ],
      "id": "f1f1450b"
    },
    {
      "cell_type": "code",
      "execution_count": null,
      "metadata": {
        "colab": {
          "base_uri": "https://localhost:8080/",
          "height": 1000
        },
        "id": "f7b87e02",
        "outputId": "303fdacb-bffb-49a7-89bb-37f4b4e02d89"
      },
      "outputs": [
        {
          "output_type": "stream",
          "name": "stdout",
          "text": [
            "\n",
            " ----- Start Training ----- \n",
            "\n",
            "Iter 10. [Val Acc 9%] [Train Acc 11%, Loss 0.030148]\n",
            "Iter 20. [Val Acc 32%] [Train Acc 31%, Loss 0.029556]\n",
            "Iter 30. [Val Acc 60%] [Train Acc 54%, Loss 0.027109]\n",
            "Iter 40. [Val Acc 66%] [Train Acc 62%, Loss 0.024963]\n",
            "Iter 50. [Val Acc 71%] [Train Acc 65%, Loss 0.024450]\n",
            "Iter 60. [Val Acc 73%] [Train Acc 71%, Loss 0.022661]\n",
            "Iter 70. [Val Acc 70%] [Train Acc 71%, Loss 0.023557]\n",
            "Iter 80. [Val Acc 74%] [Train Acc 75%, Loss 0.022117]\n",
            "Iter 90. [Val Acc 71%] [Train Acc 76%, Loss 0.022328]\n",
            "Iter 100. [Val Acc 75%] [Train Acc 77%, Loss 0.020594]\n",
            "Iter 110. [Val Acc 72%] [Train Acc 78%, Loss 0.022471]\n",
            "Iter 120. [Val Acc 76%] [Train Acc 80%, Loss 0.021393]\n",
            "Iter 130. [Val Acc 72%] [Train Acc 82%, Loss 0.022844]\n",
            "Iter 140. [Val Acc 76%] [Train Acc 83%, Loss 0.021529]\n",
            "Iter 150. [Val Acc 76%] [Train Acc 84%, Loss 0.020366]\n",
            "Iter 160. [Val Acc 77%] [Train Acc 85%, Loss 0.021101]\n",
            "Iter 170. [Val Acc 73%] [Train Acc 86%, Loss 0.021642]\n",
            "Iter 180. [Val Acc 74%] [Train Acc 86%, Loss 0.020231]\n",
            "Iter 190. [Val Acc 76%] [Train Acc 87%, Loss 0.019469]\n",
            "Iter 200. [Val Acc 76%] [Train Acc 88%, Loss 0.020158]\n"
          ]
        },
        {
          "output_type": "display_data",
          "data": {
            "text/plain": [
              "<Figure size 432x288 with 1 Axes>"
            ],
            "image/png": "[encoded data removed]"
          },
          "metadata": {
            "needs_background": "light"
          }
        },
        {
          "output_type": "display_data",
          "data": {
            "text/plain": [
              "<Figure size 432x288 with 1 Axes>"
            ],
            "image/png": "[encoded data removed]"
          },
          "metadata": {
            "needs_background": "light"
          }
        },
        {
          "output_type": "stream",
          "name": "stdout",
          "text": [
            "Final Training Accuracy: 0.8813096862210096\n",
            "Final Validation Accuracy: 0.7632850241545893\n"
          ]
        }
      ],
      "source": [
        "# Your code goes here. Make sure to include the training curve.\n",
        "model1=CNN1()\n",
        "\n",
        "output_channels = model1.out_channels//2//2\n",
        "checkpoint_path = f'/content/drive/MyDrive/Colab Notebooks/CSC413/A2/Checkpoints/model1/ckpt-out{output_channels}.txt'\n",
        "\n",
        "# if os.stat(checkpoint_path).st_size != 0:\n",
        "#    print(\"Loaded Weights from\", checkpoint_path)\n",
        "#    model1.load_state_dict(torch.load(checkpoint_path))\n",
        "\n",
        "train(model1, train_data, valid_data, batch_size=73, weight_decay=0.0,\n",
        "          optimizer=\"adam\", momentum=0.9, learning_rate=0.0001, num_epochs=20,\n",
        "          shuffle_data=True, checkpoint_path=None, print_acc=True)"
      ],
      "id": "f7b87e02"
    },
    {
      "cell_type": "markdown",
      "metadata": {
        "id": "ab200e7f"
      },
      "source": [
        "### Part (b) -- 2 points\n",
        "\n",
        "You should have tried several hyperparameter choices before deciding on one set\n",
        "of hyperparameters to use for Part (a).\n",
        "In this section, briefly explain the hyperparamter choices that you tried,\n",
        "and how they impacted your training."
      ],
      "id": "ab200e7f"
    },
    {
      "cell_type": "code",
      "execution_count": null,
      "metadata": {
        "id": "4800caf4"
      },
      "outputs": [],
      "source": [
        "# Your explanation goes here.\n",
        "\n",
        "# Used Adam instead of SGD since Adam is much faster during training.\n",
        "# We can train the whole model with Adam in 20 mins but SGD takes more than the time we could wait.\n",
        "# And SGD is stuck at 33% training accuracy probably because\n",
        "\n",
        "# Chose momentum to be 0.9 because it is the value generally good with lr of 0.001 and it is also the defult value in PyTorch's Adam\n",
        "\n",
        "# Did not use weight decay since the training accuracy is close to validation accuracy.\n",
        "\n",
        "# Batch size = 73 since larger batch size will run out of RAM and smaller batch size will train slower as we tested so far."
      ],
      "id": "4800caf4"
    },
    {
      "cell_type": "markdown",
      "metadata": {
        "id": "18ed210a"
      },
      "source": [
        "### Part (c) -- 5 points\n",
        "\n",
        "Train your second network on your training set.\n",
        "Plot the training curve, and include your plot in your writeup.\n",
        "\n",
        "Make sure that you are checkpointing frequently!"
      ],
      "id": "18ed210a"
    },
    {
      "cell_type": "code",
      "execution_count": null,
      "metadata": {
        "colab": {
          "base_uri": "https://localhost:8080/",
          "height": 833
        },
        "id": "cb4e16ca",
        "outputId": "7b9ddfe2-01e0-476c-d818-5be0e6978d9c"
      },
      "outputs": [
        {
          "output_type": "stream",
          "name": "stdout",
          "text": [
            "\n",
            " ----- Start Training ----- \n",
            "\n",
            "Iter 10. [Val Acc 13%] [Train Acc 12%, Loss 0.028927]\n",
            "Iter 20. [Val Acc 15%] [Train Acc 23%, Loss 0.026232]\n",
            "Iter 30. [Val Acc 34%] [Train Acc 47%, Loss 0.024122]\n",
            "Iter 40. [Val Acc 44%] [Train Acc 51%, Loss 0.021888]\n",
            "Iter 50. [Val Acc 69%] [Train Acc 86%, Loss 0.020227]\n",
            "Iter 60. [Val Acc 71%] [Train Acc 92%, Loss 0.020293]\n",
            "Iter 70. [Val Acc 76%] [Train Acc 96%, Loss 0.020552]\n",
            "Iter 80. [Val Acc 78%] [Train Acc 97%, Loss 0.019877]\n",
            "Iter 90. [Val Acc 78%] [Train Acc 98%, Loss 0.019392]\n",
            "Iter 100. [Val Acc 77%] [Train Acc 98%, Loss 0.019490]\n"
          ]
        },
        {
          "output_type": "display_data",
          "data": {
            "text/plain": [
              "<Figure size 432x288 with 1 Axes>"
            ],
            "image/png": "[encoded data removed]"
          },
          "metadata": {
            "needs_background": "light"
          }
        },
        {
          "output_type": "display_data",
          "data": {
            "text/plain": [
              "<Figure size 432x288 with 1 Axes>"
            ],
            "image/png": "[encoded data removed]"
          },
          "metadata": {
            "needs_background": "light"
          }
        },
        {
          "output_type": "stream",
          "name": "stdout",
          "text": [
            "Final Training Accuracy: 0.9809004092769441\n",
            "Final Validation Accuracy: 0.7729468599033816\n"
          ]
        }
      ],
      "source": [
        "# Your code goes here. Make sure to include the training curve.\n",
        "model2=CNN2()\n",
        "\n",
        "output_channels = model2.out_channels//2//2\n",
        "checkpoint_path = f'/content/drive/MyDrive/Colab Notebooks/CSC413/A2/Checkpoints/model2/ckpt-out{output_channels}.txt'\n",
        "\n",
        "# if os.stat(checkpoint_path).st_size != 0:\n",
        "#    print(\"Loaded Weights from\", checkpoint_path)\n",
        "#    model1.load_state_dict(torch.load(checkpoint_path))\n",
        "\n",
        "train(model2, train_data, valid_data, batch_size=73, weight_decay=0.001,\n",
        "          optimizer=\"adam\", momentum=0.9, learning_rate=0.0001, num_epochs=10,\n",
        "          shuffle_data=True, checkpoint_path=checkpoint_path, print_acc=True)"
      ],
      "id": "cb4e16ca"
    },
    {
      "cell_type": "markdown",
      "metadata": {
        "id": "601c7b10"
      },
      "source": [
        "### Part (d) -- 2 points\n",
        "\n",
        "You should have tried several hyperparameter choices before deciding on one set\n",
        "of hyperparameters to use for Part (c).\n",
        "In this section, briefly explain the hyperparamter choices that you tried,\n",
        "and how they impacted your training."
      ],
      "id": "601c7b10"
    },
    {
      "cell_type": "code",
      "execution_count": null,
      "metadata": {
        "id": "5c0ada58"
      },
      "outputs": [],
      "source": [
        "# Your explanation goes here.\n",
        "\n",
        "# Used Adam instead of SGD since Adam is much faster during training. And SGD will stuck at 33% training accuracy.\n",
        "\n",
        "# We used lr = 0.0001 since when we are testing several hypermaters, we found that we cannot reproduce the experiment.\n",
        "# Therefore, we think that might be the case learning rate is too high such that the gradient is instabile.\n",
        "# After we reduced the lr, the model converges really fast.\n",
        "\n",
        "# Weight decay = 0.001 since the training accuracy without weight decay is 96% while the validation accuracy is around 65%, which is a 30% difference.\n",
        "# Therefore, the model might overfit so we introduced weight decay.\n",
        "\n",
        "# Batch size = 73 since larger batch size will run out of RAM and smaller batch size will train slower."
      ],
      "id": "5c0ada58"
    },
    {
      "cell_type": "markdown",
      "metadata": {
        "id": "db48092f"
      },
      "source": [
        "### Part (e) -- 1 pts\n",
        "\n",
        "Out of all the models (i.e. parts (a) vs (c), and the various hyperparameter choices)\n",
        "that you tried, which model is the \"best\"?\n",
        "If you were to select a single set of weight values (checkpoints)\n",
        "to deploy and use in a real application, which would you choose?"
      ],
      "id": "db48092f"
    },
    {
      "cell_type": "code",
      "execution_count": null,
      "metadata": {
        "id": "2a2c92a0"
      },
      "outputs": [],
      "source": [
        "# Your explanation goes here.\n"
      ],
      "id": "2a2c92a0"
    },
    {
      "cell_type": "markdown",
      "metadata": {
        "id": "7d23c0d5"
      },
      "source": [
        "## Question 5. Transfer Learning\n",
        "\n",
        "For many image classification tasks, it is generally not a good idea to train a\n",
        "very large deep neural network model from scratch due to the enormous compute\n",
        "requirements and lack of sufficient amounts of training data.\n",
        "\n",
        "One of the better options is to try using an existing model that performs a\n",
        "similar task to the one you need to solve. This method of using a\n",
        "pre-trained network for other similar tasks is broadly termed\n",
        "**Transfer Learning**. In this question, we will use Transfer Learning\n",
        "to extract features from the hand gesture images. Then, train a smaller\n",
        "network to use these features as input and classify the hand gestures.\n",
        "\n",
        "As you have learned from the CNN lecture, the AlexNet architecture played a pivotal role in\n",
        "establishing Deep Neural Nets as a go-to tool for image classification\n",
        "problems and we will use an ImageNet pre-trained AlexNet model to\n",
        "extract features in this assignment.\n",
        "\n",
        "### Part (a)\n",
        "\n",
        "Here is the code to load the AlexNet network, with pretrained weights.\n",
        "When you first run the code, PyTorch will download the pretrained weights\n",
        "from the internet."
      ],
      "id": "7d23c0d5"
    },
    {
      "cell_type": "code",
      "execution_count": null,
      "metadata": {
        "id": "7149c916"
      },
      "outputs": [],
      "source": [
        "import torchvision.models\n",
        "alexnet = torchvision.models.alexnet(pretrained=True)"
      ],
      "id": "7149c916"
    },
    {
      "cell_type": "markdown",
      "metadata": {
        "id": "065fe73c"
      },
      "source": [
        "The `alexnet` model is split up into two components: `alexnet.features` and\n",
        "`alexnet.classifier`.  The first neural network component, `alexnet.features`,\n",
        "is used to\n",
        "computed convolutional features, which is taken as input in `alexnet.classifier`.\n",
        "\n",
        "The neural network `alexnet.features` expects an image tensor of shape\n",
        "Nx3x224x224 as inputs and it will output a tensor of shape Nx256x6x6 . (N = batch size).\n",
        "\n",
        "Here is an example code snippet showing how you can compute the AlexNet\n",
        "features for some images (your actual code might be different):"
      ],
      "id": "065fe73c"
    },
    {
      "cell_type": "code",
      "execution_count": null,
      "metadata": {
        "id": "a88552ec"
      },
      "outputs": [],
      "source": [
        "img, label = train_data[0]\n",
        "features = alexnet.features(img.unsqueeze(0)).detach()"
      ],
      "id": "a88552ec"
    },
    {
      "cell_type": "markdown",
      "metadata": {
        "id": "b57ef387"
      },
      "source": [
        "Note that the `.detach()` at the end will be necessary in your code. The reason is that\n",
        "PyTorch automatically builds computation graphs to be able to backpropagate\n",
        "gradients. If we did not explicitly \"detach\" this tensor from the AlexNet portion\n",
        "of the computation graph, PyTorch might try to backpropagate gradients to the AlexNet\n",
        "weight and tune the AlexNet weights.\n",
        "\n",
        "Compute the AlexNet features for each of your training, validation, and test data.\n",
        "In other words, create three new arrays called `train_data_features`, `valid_data_features`\n",
        "and `test_data_features`. Each of these arrays should contain tuples of the form\n",
        "`(alexnet_features, label)`"
      ],
      "id": "b57ef387"
    },
    {
      "cell_type": "code",
      "execution_count": null,
      "metadata": {
        "id": "b4cfacd7"
      },
      "outputs": [],
      "source": [
        "# Modify this code\n",
        "\n",
        "train_data_features = []\n",
        "valid_data_features = []\n",
        "test_data_features = []\n",
        "for img, y in train_data:\n",
        "  features = alexnet.features(img.unsqueeze(0)).detach()\n",
        "  train_data_features.append((features, y))\n",
        "for img, y in valid_data:\n",
        "  features = alexnet.features(img.unsqueeze(0)).detach()\n",
        "  valid_data_features.append((features, y))\n",
        "for img, y in test_data:\n",
        "  features = alexnet.features(img.unsqueeze(0)).detach()\n",
        "  test_data_features.append((features, y))"
      ],
      "id": "b4cfacd7"
    },
    {
      "cell_type": "markdown",
      "metadata": {
        "id": "57fa0a37"
      },
      "source": [
        "### Part (b)\n",
        "\n",
        "\n",
        "Create a multi-layer preceptron that\n",
        "takes **as input** these AlexNet features,\n",
        "and makes a prediction. Your model should be a subclass of `nn.Module`."
      ],
      "id": "57fa0a37"
    },
    {
      "cell_type": "code",
      "execution_count": null,
      "metadata": {
        "id": "829a583b"
      },
      "outputs": [],
      "source": [
        "class MLP(nn.Module):\n",
        "    def __init__(self):\n",
        "        super(MLP, self).__init__()\n",
        "        # ... todo ...\n",
        "        self.conv1 = nn.Conv2d(in_channels=256, out_channels=256, kernel_size=3, stride=1, padding=1)\n",
        "        self.conv2 = nn.Conv2d(in_channels=256, out_channels=512, kernel_size=3, stride=1, padding=1)\n",
        "        self.pool = nn.MaxPool2d(kernel_size=2, stride=2)\n",
        "        self.fc = nn.Linear(512, 3, 3, 9)\n",
        "\n",
        "    def forward(self, x):\n",
        "        x = nn.functional.relu(self.conv1(x))\n",
        "        x = self.pool(nn.functional.relu(self.conv2(x)))\n",
        "        x = x.view(-1, 512 * 3 * 3)\n",
        "        x = self.fc(x)\n",
        "        return x"
      ],
      "id": "829a583b"
    },
    {
      "cell_type": "markdown",
      "metadata": {
        "id": "61d5ccf0"
      },
      "source": [
        "### Part (c)\n",
        "\n",
        "Train the `MLP()` model for at least 6 epochs, and report\n",
        "on the maximum validation accuracy that you can attain.\n",
        "\n",
        "This model should train *much* faster since it has very few parameters.\n",
        "However, this model should attain much better accuracy much faster!"
      ],
      "id": "61d5ccf0"
    },
    {
      "cell_type": "code",
      "execution_count": null,
      "metadata": {
        "id": "88a864a3",
        "colab": {
          "base_uri": "https://localhost:8080/",
          "height": 484
        },
        "outputId": "9da78597-8ee7-473c-94aa-224812871d89"
      },
      "outputs": [
        {
          "output_type": "error",
          "ename": "RuntimeError",
          "evalue": "ignored",
          "traceback": [
            "\u001b[0;31m---------------------------------------------------------------------------\u001b[0m",
            "\u001b[0;31mRuntimeError\u001b[0m                              Traceback (most recent call last)",
            "\u001b[0;32m<ipython-input-13-699e293ee367>\u001b[0m in \u001b[0;36m<module>\u001b[0;34m\u001b[0m\n\u001b[0;32m----> 1\u001b[0;31m \u001b[0mmlp\u001b[0m \u001b[0;34m=\u001b[0m \u001b[0mMLP\u001b[0m\u001b[0;34m(\u001b[0m\u001b[0;34m)\u001b[0m\u001b[0;34m\u001b[0m\u001b[0;34m\u001b[0m\u001b[0m\n\u001b[0m\u001b[1;32m      2\u001b[0m \u001b[0mtrain\u001b[0m\u001b[0;34m(\u001b[0m\u001b[0mmlp\u001b[0m\u001b[0;34m,\u001b[0m \u001b[0mtrain_data\u001b[0m\u001b[0;34m,\u001b[0m \u001b[0mvalid_data\u001b[0m\u001b[0;34m)\u001b[0m\u001b[0;34m\u001b[0m\u001b[0;34m\u001b[0m\u001b[0m\n",
            "\u001b[0;32m<ipython-input-12-5529403d568b>\u001b[0m in \u001b[0;36m__init__\u001b[0;34m(self)\u001b[0m\n\u001b[1;32m      6\u001b[0m         \u001b[0mself\u001b[0m\u001b[0;34m.\u001b[0m\u001b[0mconv2\u001b[0m \u001b[0;34m=\u001b[0m \u001b[0mnn\u001b[0m\u001b[0;34m.\u001b[0m\u001b[0mConv2d\u001b[0m\u001b[0;34m(\u001b[0m\u001b[0min_channels\u001b[0m\u001b[0;34m=\u001b[0m\u001b[0;36m256\u001b[0m\u001b[0;34m,\u001b[0m \u001b[0mout_channels\u001b[0m\u001b[0;34m=\u001b[0m\u001b[0;36m512\u001b[0m\u001b[0;34m,\u001b[0m \u001b[0mkernel_size\u001b[0m\u001b[0;34m=\u001b[0m\u001b[0;36m3\u001b[0m\u001b[0;34m,\u001b[0m \u001b[0mstride\u001b[0m\u001b[0;34m=\u001b[0m\u001b[0;36m1\u001b[0m\u001b[0;34m,\u001b[0m \u001b[0mpadding\u001b[0m\u001b[0;34m=\u001b[0m\u001b[0;36m1\u001b[0m\u001b[0;34m)\u001b[0m\u001b[0;34m\u001b[0m\u001b[0;34m\u001b[0m\u001b[0m\n\u001b[1;32m      7\u001b[0m         \u001b[0mself\u001b[0m\u001b[0;34m.\u001b[0m\u001b[0mpool\u001b[0m \u001b[0;34m=\u001b[0m \u001b[0mnn\u001b[0m\u001b[0;34m.\u001b[0m\u001b[0mMaxPool2d\u001b[0m\u001b[0;34m(\u001b[0m\u001b[0mkernel_size\u001b[0m\u001b[0;34m=\u001b[0m\u001b[0;36m2\u001b[0m\u001b[0;34m,\u001b[0m \u001b[0mstride\u001b[0m\u001b[0;34m=\u001b[0m\u001b[0;36m2\u001b[0m\u001b[0;34m)\u001b[0m\u001b[0;34m\u001b[0m\u001b[0;34m\u001b[0m\u001b[0m\n\u001b[0;32m----> 8\u001b[0;31m         \u001b[0mself\u001b[0m\u001b[0;34m.\u001b[0m\u001b[0mfc\u001b[0m \u001b[0;34m=\u001b[0m \u001b[0mnn\u001b[0m\u001b[0;34m.\u001b[0m\u001b[0mLinear\u001b[0m\u001b[0;34m(\u001b[0m\u001b[0;36m512\u001b[0m\u001b[0;34m,\u001b[0m \u001b[0;36m3\u001b[0m\u001b[0;34m,\u001b[0m \u001b[0;36m3\u001b[0m\u001b[0;34m,\u001b[0m \u001b[0;36m9\u001b[0m\u001b[0;34m)\u001b[0m\u001b[0;34m\u001b[0m\u001b[0;34m\u001b[0m\u001b[0m\n\u001b[0m\u001b[1;32m      9\u001b[0m \u001b[0;34m\u001b[0m\u001b[0m\n\u001b[1;32m     10\u001b[0m     \u001b[0;32mdef\u001b[0m \u001b[0mforward\u001b[0m\u001b[0;34m(\u001b[0m\u001b[0mself\u001b[0m\u001b[0;34m,\u001b[0m \u001b[0mx\u001b[0m\u001b[0;34m)\u001b[0m\u001b[0;34m:\u001b[0m\u001b[0;34m\u001b[0m\u001b[0;34m\u001b[0m\u001b[0m\n",
            "\u001b[0;32m/usr/local/lib/python3.8/dist-packages/torch/nn/modules/linear.py\u001b[0m in \u001b[0;36m__init__\u001b[0;34m(self, in_features, out_features, bias, device, dtype)\u001b[0m\n\u001b[1;32m     94\u001b[0m         \u001b[0mself\u001b[0m\u001b[0;34m.\u001b[0m\u001b[0min_features\u001b[0m \u001b[0;34m=\u001b[0m \u001b[0min_features\u001b[0m\u001b[0;34m\u001b[0m\u001b[0;34m\u001b[0m\u001b[0m\n\u001b[1;32m     95\u001b[0m         \u001b[0mself\u001b[0m\u001b[0;34m.\u001b[0m\u001b[0mout_features\u001b[0m \u001b[0;34m=\u001b[0m \u001b[0mout_features\u001b[0m\u001b[0;34m\u001b[0m\u001b[0;34m\u001b[0m\u001b[0m\n\u001b[0;32m---> 96\u001b[0;31m         \u001b[0mself\u001b[0m\u001b[0;34m.\u001b[0m\u001b[0mweight\u001b[0m \u001b[0;34m=\u001b[0m \u001b[0mParameter\u001b[0m\u001b[0;34m(\u001b[0m\u001b[0mtorch\u001b[0m\u001b[0;34m.\u001b[0m\u001b[0mempty\u001b[0m\u001b[0;34m(\u001b[0m\u001b[0;34m(\u001b[0m\u001b[0mout_features\u001b[0m\u001b[0;34m,\u001b[0m \u001b[0min_features\u001b[0m\u001b[0;34m)\u001b[0m\u001b[0;34m,\u001b[0m \u001b[0;34m**\u001b[0m\u001b[0mfactory_kwargs\u001b[0m\u001b[0;34m)\u001b[0m\u001b[0;34m)\u001b[0m\u001b[0;34m\u001b[0m\u001b[0;34m\u001b[0m\u001b[0m\n\u001b[0m\u001b[1;32m     97\u001b[0m         \u001b[0;32mif\u001b[0m \u001b[0mbias\u001b[0m\u001b[0;34m:\u001b[0m\u001b[0;34m\u001b[0m\u001b[0;34m\u001b[0m\u001b[0m\n\u001b[1;32m     98\u001b[0m             \u001b[0mself\u001b[0m\u001b[0;34m.\u001b[0m\u001b[0mbias\u001b[0m \u001b[0;34m=\u001b[0m \u001b[0mParameter\u001b[0m\u001b[0;34m(\u001b[0m\u001b[0mtorch\u001b[0m\u001b[0;34m.\u001b[0m\u001b[0mempty\u001b[0m\u001b[0;34m(\u001b[0m\u001b[0mout_features\u001b[0m\u001b[0;34m,\u001b[0m \u001b[0;34m**\u001b[0m\u001b[0mfactory_kwargs\u001b[0m\u001b[0;34m)\u001b[0m\u001b[0;34m)\u001b[0m\u001b[0;34m\u001b[0m\u001b[0;34m\u001b[0m\u001b[0m\n",
            "\u001b[0;31mRuntimeError\u001b[0m: CUDA error: invalid device ordinal\nCUDA kernel errors might be asynchronously reported at some other API call,so the stacktrace below might be incorrect.\nFor debugging consider passing CUDA_LAUNCH_BLOCKING=1."
          ]
        }
      ],
      "source": [
        "mlp = MLP()\n",
        "train(mlp, train_data, valid_data)"
      ],
      "id": "88a864a3"
    },
    {
      "cell_type": "markdown",
      "metadata": {
        "id": "49eb5499"
      },
      "source": [
        "## Question 6. Test Accuracy\n",
        "\n",
        "### Part (a) -- 5 pts\n",
        "\n",
        "Report the test accuracies of your **single best** model for the test set, including\n",
        "any model that you trained (including in Q5)."
      ],
      "id": "49eb5499"
    },
    {
      "cell_type": "code",
      "execution_count": null,
      "metadata": {
        "id": "dbd7138e"
      },
      "outputs": [],
      "source": [
        "# Write your code here. Make sure to include the test accuracy in your report\n",
        "get_accuracy(mlp, test_data_features)"
      ],
      "id": "dbd7138e"
    },
    {
      "cell_type": "markdown",
      "metadata": {
        "id": "6ebbdd61"
      },
      "source": [
        "### Part (b) -- 1 pts\n",
        "\n",
        "Display one image that your model correctly classified."
      ],
      "id": "6ebbdd61"
    },
    {
      "cell_type": "code",
      "execution_count": null,
      "metadata": {
        "id": "af9d79a4"
      },
      "outputs": [],
      "source": [
        "# Make sure both your code and image are visible to the TA"
      ],
      "id": "af9d79a4"
    },
    {
      "cell_type": "markdown",
      "metadata": {
        "id": "089067d0"
      },
      "source": [
        "### Part (b) -- 1 pts\n",
        "\n",
        "Display one image that your model incorrectly classified. (If your test performance was 100%, please just say so.)"
      ],
      "id": "089067d0"
    },
    {
      "cell_type": "code",
      "execution_count": null,
      "metadata": {
        "id": "94be6d10"
      },
      "outputs": [],
      "source": [
        "# Make sure both your code and image are visible to the TA"
      ],
      "id": "94be6d10"
    },
    {
      "cell_type": "markdown",
      "metadata": {
        "id": "28f7a62a"
      },
      "source": [
        "## Question 6. Adversarial Examples -- 2 pts\n",
        "\n",
        "In this question you will take the trained model you selected in Q4 (e),\n",
        "and you will freeze its weights (i.e. do not optimize it further). Let's call this model $f()$.\n",
        "Select an image (let's call it $x$) from the test set, where $f(x)$ outputs the correct label $y$.\n",
        "Then, compute an adversarial noise image (let's call it $n$) that you will add to $x$ in order to change\n",
        "the original label to an incorrect one, i.e. $f(x + n) \\neq f(x)$, while keeping the value of the noise\n",
        "pixels small, i.e. $|n_{i,j}| < \\epsilon$. You have control over $\\epsilon$, but keep in mind that the\n",
        "noise should be imperceptible to the human eye when not zooming into the image."
      ],
      "id": "28f7a62a"
    },
    {
      "cell_type": "code",
      "execution_count": null,
      "metadata": {
        "id": "6e3a9218"
      },
      "outputs": [],
      "source": [
        "#\n",
        "# Make sure your code, original image x, and the corrupted image x + n are shown to the TA\n",
        "# Show the output f(x) = y and the output f(x + n) is different than y.\n",
        "#"
      ],
      "id": "6e3a9218"
    },
    {
      "cell_type": "markdown",
      "metadata": {
        "id": "994ce1b7"
      },
      "source": [
        "## Question 7. Work Allocation -- 1 pts\n",
        "\n",
        "This question is to make sure that if you are working with a partner, that\n",
        "you and your partner contributed equally to the assignment.\n",
        "\n",
        "Please have each team member write down the times that you worked on the\n",
        "assignment, and your contribution to the assignment."
      ],
      "id": "994ce1b7"
    },
    {
      "cell_type": "code",
      "execution_count": null,
      "metadata": {
        "id": "53b2a87e"
      },
      "outputs": [],
      "source": [
        "# Your answer goes here\n",
        "# Steven Shi: 23 times\n",
        "# Xuankui Zhu: 17 times"
      ],
      "id": "53b2a87e"
    }
  ],
  "metadata": {
    "accelerator": "GPU",
    "colab": {
      "provenance": [],
      "toc_visible": true
    },
    "gpuClass": "standard",
    "kernelspec": {
      "display_name": "Python 3",
      "name": "python3"
    },
    "language_info": {
      "name": "python"
    }
  },
  "nbformat": 4,
  "nbformat_minor": 5
}